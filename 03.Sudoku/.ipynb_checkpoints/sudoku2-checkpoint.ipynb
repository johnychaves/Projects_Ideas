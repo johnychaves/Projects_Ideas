{
 "cells": [
  {
   "cell_type": "code",
   "execution_count": 1,
   "metadata": {},
   "outputs": [],
   "source": [
    "import csv"
   ]
  },
  {
   "cell_type": "markdown",
   "metadata": {},
   "source": [
    "#### Combinações_1 (29,79) "
   ]
  },
  {
   "cell_type": "code",
   "execution_count": 3,
   "metadata": {},
   "outputs": [
    {
     "data": {
      "text/plain": [
       "['273951864', '968357241']"
      ]
     },
     "execution_count": 3,
     "metadata": {},
     "output_type": "execute_result"
    }
   ],
   "source": [
    "lista = []\n",
    "with open('combinacoes1.csv') as csv_file:\n",
    "    csv_reader = csv.reader(csv_file, delimiter=';')\n",
    "    \n",
    "    for linha in csv_reader:\n",
    "        \n",
    "        for numero in linha:\n",
    "            lista.append(numero)\n",
    "\n",
    "            comb_1 = lista\n",
    "\n",
    "magic_numbers = ['951','159','357','753']\n",
    "comb_1[0][3:6]\n",
    "comb_1[0]\n",
    "potenciais_1 = []\n",
    "\n",
    "\n",
    "for number in comb_1:\n",
    "    if number[3:6] in magic_numbers:\n",
    "        potenciais_1.append(number)\n",
    "potenciais_1"
   ]
  },
  {
   "cell_type": "markdown",
   "metadata": {},
   "source": [
    "#### Combinações_2 (127,877) "
   ]
  },
  {
   "cell_type": "code",
   "execution_count": 6,
   "metadata": {},
   "outputs": [
    {
     "data": {
      "text/plain": [
       "['741629835']"
      ]
     },
     "execution_count": 6,
     "metadata": {},
     "output_type": "execute_result"
    }
   ],
   "source": [
    "lista = []\n",
    "with open('combinacoes2.csv') as csv_file:\n",
    "    csv_reader = csv.reader(csv_file, delimiter=';')\n",
    "    \n",
    "    for linha in csv_reader:\n",
    "        \n",
    "        for numero in linha:\n",
    "            lista.append(numero)\n",
    "            \n",
    "comb_2 = lista\n",
    "\n",
    "magic_numbers = ['8','2']\n",
    "comb_2[0][4]\n",
    "potenciais_2 = []\n",
    "\n",
    "\n",
    "for number in comb_2:\n",
    "    if number[4] in magic_numbers:\n",
    "        potenciais_2.append(number)\n",
    "potenciais_2"
   ]
  },
  {
   "cell_type": "markdown",
   "metadata": {},
   "source": [
    "#### Combinações_3 (4,257)"
   ]
  },
  {
   "cell_type": "code",
   "execution_count": 36,
   "metadata": {},
   "outputs": [
    {
     "name": "stdout",
     "output_type": "stream",
     "text": [
      "2 ['256197348', '257193864']\n"
     ]
    }
   ],
   "source": [
    "lista = []\n",
    "with open('combinacoes3.csv') as csv_file:\n",
    "    csv_reader = csv.reader(csv_file, delimiter=';')\n",
    "    \n",
    "    for linha in csv_reader:\n",
    "        \n",
    "        for numero in linha:\n",
    "            lista.append(numero)\n",
    "comb_3 = lista\n",
    "\n",
    "magic_numbers = ['9']\n",
    "not_magic = ['1','6','8']\n",
    "not_magic2 = ['2','4','6','8']\n",
    "comb_3[0][4]\n",
    "potenciais_3 = []\n",
    "potenciais_3_2 = []\n",
    "\n",
    "for number in comb_3:\n",
    "    if number[4] in magic_numbers:\n",
    "        potenciais_3.append(number)\n",
    "# print(len(potenciais_3),potenciais_3)\n",
    "\n",
    "magic_numbers2 = ['2','4','6','8']\n",
    "for numero in potenciais_3:\n",
    "    if numero[7] in magic_numbers2 and numero[0] in magic_numbers2 and numero[5] not in not_magic:\n",
    "        potenciais_3_2.append(numero)\n",
    "print(len(potenciais_3_2),potenciais_3_2)"
   ]
  },
  {
   "cell_type": "markdown",
   "metadata": {},
   "source": [
    "#### Combinações_4 (11,5)"
   ]
  },
  {
   "cell_type": "code",
   "execution_count": 37,
   "metadata": {},
   "outputs": [
    {
     "name": "stdout",
     "output_type": "stream",
     "text": [
      "4 ['583276419', '583276914', '584276319', '584276913']\n"
     ]
    }
   ],
   "source": [
    "lista = []\n",
    "with open('combinacoes4.csv') as csv_file:\n",
    "    csv_reader = csv.reader(csv_file, delimiter=';')\n",
    "    \n",
    "    for linha in csv_reader:\n",
    "        \n",
    "        for numero in linha:\n",
    "            lista.append(numero)\n",
    "\n",
    "comb_4 = lista\n",
    "            \n",
    "magic_numbers = ['276']\n",
    "\n",
    "comb_4[0][3:6]\n",
    "potenciais_4 = []\n",
    "\n",
    "\n",
    "for number in comb_4:\n",
    "    if number[3:6] in magic_numbers and number[1] == '8' and number[2] != '9' :\n",
    "        potenciais_4.append(number)\n",
    "print(len(potenciais_4),potenciais_4)"
   ]
  },
  {
   "cell_type": "markdown",
   "metadata": {},
   "source": [
    "#### Combinações_5 (22,)"
   ]
  },
  {
   "cell_type": "code",
   "execution_count": 29,
   "metadata": {
    "scrolled": true
   },
   "outputs": [
    {
     "name": "stdout",
     "output_type": "stream",
     "text": [
      "2 ['937561482', '987561432']\n"
     ]
    }
   ],
   "source": [
    "lista = []\n",
    "with open('combinacoes5.csv') as csv_file:\n",
    "    csv_reader = csv.reader(csv_file, delimiter=';')\n",
    "    \n",
    "    for linha in csv_reader:\n",
    "        \n",
    "        for numero in linha:\n",
    "            lista.append(numero)\n",
    "comb_5 = lista\n",
    "\n",
    "magic_numbers = ['75']\n",
    "# magic_numbers2 =['2']\n",
    "# magic_numbers3 = ['6','9']\n",
    "not_magic = ['1','4']\n",
    "not_magic2 = ['1','9']\n",
    "not_magic3= ['3','4','8']\n",
    "magic_numbers6= ['1','4']\n",
    "\n",
    "not_magic5= ['6']\n",
    "comb_5\n",
    "potenciais_5 = []\n",
    "\n",
    "\n",
    "for number in comb_5:\n",
    "    if number[2:4] in magic_numbers and number[8] == '2' and number[0] == '9' and number[0] not in not_magic and number[4] not in not_magic2 and number[5] not in not_magic3 and number[6] in magic_numbers6 and number[7] not in not_magic5 :\n",
    "        potenciais_5.append(number)\n",
    "print(len(potenciais_5),potenciais_5)"
   ]
  },
  {
   "cell_type": "markdown",
   "metadata": {},
   "source": [
    "#### Combinações_6 (125,)"
   ]
  },
  {
   "cell_type": "code",
   "execution_count": 34,
   "metadata": {},
   "outputs": [
    {
     "name": "stdout",
     "output_type": "stream",
     "text": [
      "6 ['684739125', '684973125', '687934125', '687943125', '689734125', '689743125']\n"
     ]
    }
   ],
   "source": [
    "lista = []\n",
    "with open('combinacoes6.csv') as csv_file:\n",
    "    csv_reader = csv.reader(csv_file, delimiter=';')\n",
    "    \n",
    "    for linha in csv_reader:\n",
    "        \n",
    "        for numero in linha:\n",
    "            lista.append(numero)\n",
    "\n",
    "comb_6 = lista\n",
    "\n",
    "magic_numbers = ['125']\n",
    "magic_numbers2 = ['3','4','9']\n",
    "not_magic = ['3','8']\n",
    "not_magic2= ['3','4','8']\n",
    "not_magic3= ['9']\n",
    "comb_6[0][6:9]\n",
    "potenciais_6 = []\n",
    "\n",
    "\n",
    "for number in comb_6:\n",
    "    if number[6:9] in magic_numbers and number[5] in magic_numbers2 and number[0] == '6' and number[1] == '8' and  number[2] not in not_magic and number[3] not in not_magic2 and number[4] not in not_magic3:\n",
    "        potenciais_6.append(number)\n",
    "print(len(potenciais_6),potenciais_6)"
   ]
  },
  {
   "cell_type": "markdown",
   "metadata": {},
   "source": [
    "#### Combinações_7 (8,2)"
   ]
  },
  {
   "cell_type": "code",
   "execution_count": 33,
   "metadata": {
    "scrolled": false
   },
   "outputs": [
    {
     "name": "stdout",
     "output_type": "stream",
     "text": [
      "2 ['475681392', '476581392']\n"
     ]
    }
   ],
   "source": [
    "lista = []\n",
    "with open('combinacoes7.csv') as csv_file:\n",
    "    csv_reader = csv.reader(csv_file, delimiter=';')\n",
    "    \n",
    "    for linha in csv_reader:\n",
    "        \n",
    "        for numero in linha:\n",
    "            lista.append(numero)\n",
    "\n",
    "comb_7 = lista\n",
    "lista\n",
    "potenciais_7 = []\n",
    "\n",
    "magic_number = ['1','8']\n",
    "not_magic = ['5','6','8']\n",
    "not_magic2 = ['1','8']\n",
    "not_magic3 = ['8']\n",
    "not_magic4 = ['1','5','6','9']\n",
    "not_magic5 = ['2','5','8']\n",
    "not_magic6 = ['6','8']\n",
    "\n",
    "\n",
    "for number in comb_7:\n",
    "    if number[0] == '4' and number[6] == '3' and number[5] == '1' and number[1] not in not_magic and number[2] not in not_magic2 and number[3] not in not_magic3 and number[4] not in not_magic4 and number[7] not in not_magic5 and number[8] not in not_magic6:\n",
    "        potenciais_7.append(number)\n",
    "print(len(potenciais_7),potenciais_7)\n"
   ]
  },
  {
   "cell_type": "markdown",
   "metadata": {},
   "source": [
    "#### Combinações_8 (2,17)"
   ]
  },
  {
   "cell_type": "code",
   "execution_count": 30,
   "metadata": {},
   "outputs": [
    {
     "name": "stdout",
     "output_type": "stream",
     "text": [
      "2 ['417382596', '479382156']\n"
     ]
    }
   ],
   "source": [
    "lista = []\n",
    "with open('combinacoes8.csv') as csv_file:\n",
    "    csv_reader = csv.reader(csv_file, delimiter=';')\n",
    "    \n",
    "    for linha in csv_reader:\n",
    "        \n",
    "        for numero in linha:\n",
    "            lista.append(numero)\n",
    "\n",
    "comb_8 = lista\n",
    "\n",
    "potenciais_8 = []\n",
    "\n",
    "not_magic = ['2','3','5','6','7']\n",
    "not_magic2 = ['2','4','5','6']\n",
    "not_magic3 = ['1','2','5','6']\n",
    "not_magic4 = ['1','2','4','6','7','9']\n",
    "not_magic5 = ['1','3','5','6','7','9']\n",
    "not_magic6 = ['3','4']\n",
    "not_magic7 = ['3','4']\n",
    "\n",
    "\n",
    "\n",
    "for number in comb_8:\n",
    "    if number[4] == '8' and number[0] == '4' and number[1] not in not_magic2 and number[2] not in not_magic3 and number[3] not in not_magic4 and number[5] not in not_magic5 and number[6] not in not_magic6 and number[7] not in not_magic7 :\n",
    "        potenciais_8.append(number)\n",
    "print(len(potenciais_8),potenciais_8)"
   ]
  },
  {
   "cell_type": "code",
   "execution_count": null,
   "metadata": {},
   "outputs": [],
   "source": []
  },
  {
   "cell_type": "code",
   "execution_count": 5,
   "metadata": {},
   "outputs": [
    {
     "ename": "KeyboardInterrupt",
     "evalue": "",
     "output_type": "error",
     "traceback": [
      "\u001b[1;31m---------------------------------------------------------------------------\u001b[0m",
      "\u001b[1;31mKeyboardInterrupt\u001b[0m                         Traceback (most recent call last)",
      "\u001b[1;32m<timed exec>\u001b[0m in \u001b[0;36m<module>\u001b[1;34m\u001b[0m\n",
      "\u001b[1;31mKeyboardInterrupt\u001b[0m: "
     ]
    }
   ],
   "source": [
    "%%time\n",
    "prime_list = []\n",
    "for num in range(2, 219456894):\n",
    "    prime = True\n",
    "    for i in range(2,num):\n",
    "        if (num%i==0):\n",
    "            prime = False\n",
    "    if prime:\n",
    "        prime_list.append(num)\n",
    "        \n",
    "import csv\n",
    "\n",
    "with open(\"./ListaPrimos.csv\", \"w\", newline=\"\") as csvfile:\n",
    "    writer = csv.writer(csvfile, delimiter=\";\")\n",
    "    writer.writerow(prime_list)\n",
    "        "
   ]
  },
  {
   "cell_type": "code",
   "execution_count": 16,
   "metadata": {},
   "outputs": [
    {
     "name": "stdout",
     "output_type": "stream",
     "text": [
      "['2', '3', '61', '109', '5501']\n"
     ]
    }
   ],
   "source": [
    "lista=[]\n",
    "with open('lista_primos.csv') as csv_file:\n",
    "    csv_reader = csv.reader(csv_file, delimiter=';')\n",
    "    \n",
    "    for linha in csv_reader:\n",
    "        \n",
    "        for numero in linha:\n",
    "            lista.append(numero)\n",
    "\n",
    "def is_primo(num):\n",
    "    \n",
    "    for i in range(2,num-1):\n",
    "        if num % i == 0:\n",
    "            break\n",
    "    else:\n",
    "        return True\n",
    "    \n",
    "    return False\n",
    "            \n",
    "            \n",
    "\n",
    "prime_list = []\n",
    "\n",
    "\n",
    "for elemento in lista:\n",
    "    \n",
    "    if is_primo(int(elemento)) == True:\n",
    "        prime_list.append(elemento)\n",
    "\n",
    "print(prime_list)    "
   ]
  },
  {
   "cell_type": "code",
   "execution_count": 17,
   "metadata": {},
   "outputs": [
    {
     "data": {
      "text/plain": [
       "0"
      ]
     },
     "execution_count": 17,
     "metadata": {},
     "output_type": "execute_result"
    }
   ],
   "source": []
  },
  {
   "cell_type": "code",
   "execution_count": null,
   "metadata": {},
   "outputs": [],
   "source": []
  },
  {
   "cell_type": "code",
   "execution_count": null,
   "metadata": {},
   "outputs": [],
   "source": []
  },
  {
   "cell_type": "code",
   "execution_count": null,
   "metadata": {},
   "outputs": [],
   "source": []
  }
 ],
 "metadata": {
  "kernelspec": {
   "display_name": "Python 3",
   "language": "python",
   "name": "python3"
  },
  "language_info": {
   "codemirror_mode": {
    "name": "ipython",
    "version": 3
   },
   "file_extension": ".py",
   "mimetype": "text/x-python",
   "name": "python",
   "nbconvert_exporter": "python",
   "pygments_lexer": "ipython3",
   "version": "3.6.5"
  }
 },
 "nbformat": 4,
 "nbformat_minor": 4
}
